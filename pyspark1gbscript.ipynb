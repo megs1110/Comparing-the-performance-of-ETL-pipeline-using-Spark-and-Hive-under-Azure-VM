{
 "cells": [
  {
   "cell_type": "code",
   "execution_count": 2,
   "id": "92035100",
   "metadata": {},
   "outputs": [
    {
     "name": "stdout",
     "output_type": "stream",
     "text": [
      "8\n"
     ]
    },
    {
     "name": "stderr",
     "output_type": "stream",
     "text": [
      "                                                                                \r"
     ]
    },
    {
     "name": "stdout",
     "output_type": "stream",
     "text": [
      "+------+------+\n",
      "|number| count|\n",
      "+------+------+\n",
      "|     0|167240|\n",
      "|     1|166775|\n",
      "|     2|167321|\n",
      "|     3|167740|\n",
      "|     4|167162|\n",
      "+------+------+\n",
      "only showing top 5 rows\n",
      "\n"
     ]
    },
    {
     "name": "stderr",
     "output_type": "stream",
     "text": [
      "                                                                                \r"
     ]
    },
    {
     "name": "stdout",
     "output_type": "stream",
     "text": [
      "--- 62.18707084655762 seconds ---\n"
     ]
    }
   ],
   "source": [
    "# conda install -c cyclus java-jdk\n",
    "\n",
    "import time\n",
    "start_time = time.time()\n",
    "source_path = '/Users/meghashah/Desktop/1GB.csv'\n",
    "target_path = \"/Users/meghashah/Desktop/1GB_final.csv\"\n",
    "\n",
    "from pyspark.sql import functions as F\n",
    "from pyspark.sql import SparkSession\n",
    "import findspark\n",
    "findspark.init()\n",
    "import pyspark\n",
    "from pyspark.sql import SparkSession\n",
    "from pyspark.sql import functions as F\n",
    "spark = SparkSession.builder.getOrCreate()\n",
    "spark\n",
    "# schema creation by passing list\n",
    "df = spark.read.option(\"header\", \"true\").csv(source_path)\n",
    "print(df.rdd.getNumPartitions())\n",
    "df = df.na.drop()\n",
    "df = df.select(\"number\",F.col(\"number\").cast(\"int\").isNotNull().alias(\"flag\"))\n",
    "df = df.filter(df.flag==True)\n",
    "df = df.select('number')\n",
    "df = df.withColumn(\"number\", F.round(df[\"number\"]).cast('integer'))\n",
    "df = df.withColumn('number', F.abs('number'))\n",
    "df = df.groupBy(\"number\").agg(F.count(\"number\").alias(\"count\"))\n",
    "df = df.sort(\"number\")\n",
    "df = df.cache()\n",
    "df.show(5)\n",
    "\n",
    "df.write.format('com.databricks.spark.csv').mode('overwrite').option(\"header\", \"true\").save(target_path)\n",
    "\n",
    "print(\"--- %s seconds ---\" % (time.time() - start_time))"
   ]
  },
  {
   "cell_type": "code",
   "execution_count": null,
   "id": "10c2d749",
   "metadata": {},
   "outputs": [],
   "source": []
  }
 ],
 "metadata": {
  "kernelspec": {
   "display_name": "Python 3 (ipykernel)",
   "language": "python",
   "name": "python3"
  },
  "language_info": {
   "codemirror_mode": {
    "name": "ipython",
    "version": 3
   },
   "file_extension": ".py",
   "mimetype": "text/x-python",
   "name": "python",
   "nbconvert_exporter": "python",
   "pygments_lexer": "ipython3",
   "version": "3.9.7"
  }
 },
 "nbformat": 4,
 "nbformat_minor": 5
}
